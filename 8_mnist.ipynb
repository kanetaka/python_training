{
 "cells": [
  {
   "cell_type": "code",
   "execution_count": 2,
   "metadata": {},
   "outputs": [],
   "source": [
    "import numpy as np\n",
    "import torch\n",
    "import torch.nn as nn\n",
    "import torch.optim as optim\n",
    "import torch.nn.functional as F\n",
    "import matplotlib.pyplot as plt\n",
    "import matplotlib.cm as cm\n",
    "from torchvision import datasets, transforms"
   ]
  },
  {
   "cell_type": "code",
   "execution_count": 3,
   "metadata": {},
   "outputs": [],
   "source": [
    "class NeuralNet(nn.Module):\n",
    "    def __init__(self, input_size, hidden_size, output_size):\n",
    "        super(NeuralNet, self).__init__()\n",
    "        self.linear1 = nn.Linear(input_size, hidden_size)\n",
    "        self.linear2 = nn.Linear(hidden_size, output_size)\n",
    "\n",
    "    def forward(self, X1):\n",
    "        Z1 = self.linear1(X1)\n",
    "        X2 = F.relu(Z1)\n",
    "        Z2 = self.linear2(X2)\n",
    "        Y = F.softmax(Z2, dim=-1)\n",
    "        return Y"
   ]
  },
  {
   "cell_type": "code",
   "execution_count": 4,
   "metadata": {},
   "outputs": [],
   "source": [
    "hidden_size=200\n",
    "lr=0.01\n",
    "batch_size=32\n",
    "n_epoch=100"
   ]
  },
  {
   "cell_type": "code",
   "execution_count": 5,
   "metadata": {},
   "outputs": [],
   "source": [
    "model = NeuralNet(input_size=784, hidden_size=hidden_size, output_size=10)\n",
    "optimizer = optim.SGD(model.parameters(), lr=lr)\n",
    "criterion = nn.CrossEntropyLoss() # クロスエントロピー\n",
    "transform = transforms.Compose([\n",
    "    transforms.ToTensor(),\n",
    "    transforms.Lambda(lambda x: x.view(784))\n",
    "])"
   ]
  },
  {
   "cell_type": "code",
   "execution_count": 6,
   "metadata": {},
   "outputs": [],
   "source": [
    "dataloader_train = torch.utils.data.DataLoader(\n",
    "    datasets.MNIST('./data/mnist', train=True, download=True, transform=transform),\n",
    "    batch_size=batch_size,\n",
    "    shuffle=True\n",
    ")\n",
    "dataloader_test = torch.utils.data.DataLoader(\n",
    "    datasets.MNIST('./data/mnist', train=False, download=True, transform=transform),\n",
    "    shuffle=False\n",
    ")"
   ]
  },
  {
   "cell_type": "code",
   "execution_count": 7,
   "metadata": {},
   "outputs": [
    {
     "name": "stdout",
     "output_type": "stream",
     "text": [
      "This Is Debug Mode. Show Sample Image...\n",
      "\n",
      "DATA No.0 is 5\n"
     ]
    },
    {
     "data": {
      "image/png": "[encoded data removed]",
      "text/plain": [
       "<Figure size 432x288 with 1 Axes>"
      ]
     },
     "metadata": {
      "needs_background": "light"
     },
     "output_type": "display_data"
    }
   ],
   "source": [
    "data_train_0 = dataloader_train.dataset[0]\n",
    "x_train_0 = data_train_0[0].numpy().reshape(28, 28)\n",
    "t_train_0 = data_train_0[1]\n",
    "print(\"This Is Debug Mode. Show Sample Image...\\n\")\n",
    "print(\"DATA No.0 is {}\".format(t_train_0))\n",
    "plt.imshow(x_train_0, cmap=cm.Greys)\n",
    "plt.show();"
   ]
  },
  {
   "cell_type": "code",
   "execution_count": null,
   "metadata": {},
   "outputs": [
    {
     "name": "stdout",
     "output_type": "stream",
     "text": [
      "EPOCH: 1, TRAIN LOSS: 2.255, TEST LOSS: 2.131, TEST ACC: 53.730\n",
      "EPOCH: 2, TRAIN LOSS: 2.105, TEST LOSS: 1.992, TEST ACC: 65.710\n",
      "EPOCH: 3, TRAIN LOSS: 2.007, TEST LOSS: 1.913, TEST ACC: 76.610\n",
      "EPOCH: 4, TRAIN LOSS: 1.934, TEST LOSS: 1.855, TEST ACC: 82.560\n",
      "EPOCH: 5, TRAIN LOSS: 1.883, TEST LOSS: 1.816, TEST ACC: 83.300\n",
      "EPOCH: 6, TRAIN LOSS: 1.846, TEST LOSS: 1.788, TEST ACC: 83.760\n"
     ]
    }
   ],
   "source": [
    "loss_train_list = []\n",
    "loss_test_list = []\n",
    "acc_test_list = []\n",
    "\n",
    "for epoch in range(1, n_epoch+1):\n",
    "    loss_train_batch_list = []\n",
    "    loss_test_batch_list = []\n",
    "    correct = 0\n",
    "    total = 0\n",
    "\n",
    "    model.train()\n",
    "\n",
    "    for x_train_batch, t_train_batch in dataloader_train:\n",
    "        model.zero_grad() # 勾配の初期化\n",
    "        y_train_batch = model.forward(x_train_batch)\n",
    "        loss_train_batch = criterion(y_train_batch, t_train_batch)\n",
    "        loss_train_batch.backward()\n",
    "        optimizer.step()\n",
    "        loss_train_batch_list.append(loss_train_batch.tolist())\n",
    "\n",
    "    # ----- TEST -----\n",
    "    model.eval()\n",
    "    # ----- batch_sizeごとに処理 -----\n",
    "    for x_test_batch, t_test_batch in dataloader_test:\n",
    "        y_test_batch = model.forward(x_test_batch)\n",
    "        loss_test_batch = criterion(y_test_batch, t_test_batch)\n",
    "        loss_test_batch_list.append(loss_test_batch.tolist())\n",
    "\n",
    "        label_test_batch = y_test_batch.argmax(1).numpy()\n",
    "        t_test_batch = t_test_batch.numpy()\n",
    "        correct += np.sum((label_test_batch - t_test_batch) == 0)\n",
    "        total += 1\n",
    "\n",
    "    loss_train_list.append(np.mean(loss_train_batch_list))\n",
    "    loss_test_list.append(np.mean(loss_test_batch_list))\n",
    "    acc_test_batch = 100 * correct / total\n",
    "    acc_test_list.append(acc_test_batch)\n",
    "\n",
    "    print('EPOCH: {}, TRAIN LOSS: {:.3f}, TEST LOSS: {:.3f}, TEST ACC: {:.3f}'.format(\n",
    "        epoch,\n",
    "        np.mean(loss_train_list),\n",
    "        np.mean(loss_test_list),\n",
    "        acc_test_batch\n",
    "    ))\n"
   ]
  },
  {
   "cell_type": "code",
   "execution_count": null,
   "metadata": {},
   "outputs": [],
   "source": [
    "plt.plot(loss_train_list)\n",
    "plt.show()\n",
    "plt.plot(loss_test_list)\n",
    "plt.show()\n",
    "plt.plot(acc_test_list)\n",
    "plt.show()"
   ]
  }
 ],
 "metadata": {
  "kernelspec": {
   "display_name": "Python 3",
   "language": "python",
   "name": "python3"
  },
  "language_info": {
   "codemirror_mode": {
    "name": "ipython",
    "version": 3
   },
   "file_extension": ".py",
   "mimetype": "text/x-python",
   "name": "python",
   "nbconvert_exporter": "python",
   "pygments_lexer": "ipython3",
   "version": "3.6.10"
  }
 },
 "nbformat": 4,
 "nbformat_minor": 4
}
