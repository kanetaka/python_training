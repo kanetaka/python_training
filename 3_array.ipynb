{
 "cells": [
  {
   "cell_type": "markdown",
   "metadata": {},
   "source": [
    "# 第3章 いろいろな配列\n",
    "* ExcelをPythonで扱う場合，様々な配列を理解しておく必要があります．"
   ]
  },
  {
   "cell_type": "markdown",
   "metadata": {},
   "source": [
    "## 3.1 リスト\n",
    "* Python言語に組み込まれている配列（複数の値を保持できるもの）型\n",
    "* インデックスは数値，0から開始\n",
    "* リストに代入するそれぞれの値は別の型でも可能だが，あまりオススメしない"
   ]
  },
  {
   "cell_type": "markdown",
   "metadata": {},
   "source": [
    "### 3.1.1 for文で変数list全ての値を表示して下さい．"
   ]
  },
  {
   "cell_type": "code",
   "execution_count": 1,
   "metadata": {},
   "outputs": [
    {
     "name": "stdout",
     "output_type": "stream",
     "text": [
      "1\n",
      "2\n",
      "3\n",
      "4\n",
      "5\n",
      "6\n",
      "7\n",
      "8\n",
      "9\n",
      "----------\n",
      "その他の回答\n",
      "1\n",
      "2\n",
      "3\n",
      "4\n",
      "5\n",
      "6\n",
      "7\n",
      "8\n",
      "9\n"
     ]
    }
   ],
   "source": [
    "list = [1, 2, 3, 4, 5, 6, 7, 8, 9]\n",
    "# ここに回答を書いて下さい．\n",
    "for i in range(len(list)):\n",
    "    print(list[i])\n",
    "\n",
    "#### その他の回答 ###\n",
    "print('-' * 10)\n",
    "print('その他の回答')\n",
    "\n",
    "for val in list:\n",
    "    print(val)"
   ]
  },
  {
   "cell_type": "markdown",
   "metadata": {},
   "source": [
    "### 3.1.2 変数listの要素数を表示して下さい．"
   ]
  },
  {
   "cell_type": "code",
   "execution_count": 2,
   "metadata": {},
   "outputs": [
    {
     "name": "stdout",
     "output_type": "stream",
     "text": [
      "9\n"
     ]
    }
   ],
   "source": [
    "# ここに回答を書いて下さい．\n",
    "print(len(list))"
   ]
  },
  {
   "cell_type": "markdown",
   "metadata": {},
   "source": [
    "### 3.1.3 変数listを全て足して表示して下さい．"
   ]
  },
  {
   "cell_type": "code",
   "execution_count": 3,
   "metadata": {},
   "outputs": [
    {
     "name": "stdout",
     "output_type": "stream",
     "text": [
      "45\n",
      "---\n",
      "45\n",
      "----------\n",
      "その他の回答\n",
      "45\n"
     ]
    }
   ],
   "source": [
    "# ここに回答を書いて下さい．\n",
    "total=0\n",
    "for i in range(9):\n",
    "    total = total + list[i]\n",
    "print(total)\n",
    "\n",
    "print(\"---\")\n",
    "\n",
    "total=0\n",
    "y=len(list)\n",
    "for i in range(y):\n",
    "    total = total + list[i]\n",
    "print(total)\n",
    "\n",
    "#### その他の回答 ###\n",
    "print('-' * 10)\n",
    "print('その他の回答')\n",
    "\n",
    "sum = 0\n",
    "for v in list:\n",
    "    sum += v\n",
    "print(sum)"
   ]
  },
  {
   "cell_type": "markdown",
   "metadata": {},
   "source": [
    "## 3.2 ディクショナリ\n",
    "\n",
    "* キーとバリューで管理するデータ構造\n",
    "* バリューは型が違っていても良い"
   ]
  },
  {
   "cell_type": "markdown",
   "metadata": {},
   "source": [
    "### 3.2.1 変数dictのバリュー(value)を全て表示して下さい．"
   ]
  },
  {
   "cell_type": "code",
   "execution_count": 4,
   "metadata": {},
   "outputs": [
    {
     "name": "stdout",
     "output_type": "stream",
     "text": [
      "kuri\n",
      "20\n"
     ]
    }
   ],
   "source": [
    "dict = {'name': 'kuri', 'age': 20}\n",
    "\n",
    "# ここに回答を書いて下さい．\n",
    "for v in dict.values():\n",
    "    print(v)"
   ]
  },
  {
   "cell_type": "markdown",
   "metadata": {},
   "source": [
    "### 3.2.2 変数dictの「nameキー」の中身（バリュー）を表示して下さい．"
   ]
  },
  {
   "cell_type": "code",
   "execution_count": 5,
   "metadata": {},
   "outputs": [
    {
     "name": "stdout",
     "output_type": "stream",
     "text": [
      "kuri\n"
     ]
    }
   ],
   "source": [
    "# ここに回答を書いて下さい．\n",
    "print(dict['name'])"
   ]
  },
  {
   "cell_type": "markdown",
   "metadata": {},
   "source": [
    "### 3.2.3 変数dictの要素数を表示して下さい．"
   ]
  },
  {
   "cell_type": "code",
   "execution_count": 6,
   "metadata": {},
   "outputs": [
    {
     "name": "stdout",
     "output_type": "stream",
     "text": [
      "2\n"
     ]
    }
   ],
   "source": [
    "# ここに回答を書いて下さい．\n",
    "print(len(dict))"
   ]
  },
  {
   "cell_type": "markdown",
   "metadata": {},
   "source": [
    "### 3.2.4 変数dictのキー(key)を全て表示して下さい．"
   ]
  },
  {
   "cell_type": "code",
   "execution_count": 7,
   "metadata": {},
   "outputs": [
    {
     "name": "stdout",
     "output_type": "stream",
     "text": [
      "name\n",
      "age\n"
     ]
    }
   ],
   "source": [
    "# ここに回答を書いて下さい．\n",
    "for k in dict.keys():\n",
    "    print(k)"
   ]
  },
  {
   "cell_type": "markdown",
   "metadata": {},
   "source": [
    "### 3.2.5 変数dictのキー(key)とバリュー(value)を同時に表示して下さい．"
   ]
  },
  {
   "cell_type": "code",
   "execution_count": 8,
   "metadata": {},
   "outputs": [
    {
     "name": "stdout",
     "output_type": "stream",
     "text": [
      "('name', 'kuri')\n",
      "name kuri\n",
      "('age', 20)\n",
      "age 20\n"
     ]
    }
   ],
   "source": [
    "# ここに回答を書いて下さい．\n",
    "for i in dict.items():\n",
    "    print(i)\n",
    "    print(i[0], i[1])"
   ]
  },
  {
   "cell_type": "markdown",
   "metadata": {},
   "source": [
    "## 3.3 numpy\n",
    "* Pythonで学術計算をするためのライブラリ\n",
    "* 基本的にはリストのようなデータ構造だが，平均，分散，行列計算など数値計算を高速に行うことができる\n",
    "* 統計，機会学習では一番お世話になるデータ構造\n",
    "* リストと違って，それぞれの型は同じ型である必要がある"
   ]
  },
  {
   "cell_type": "code",
   "execution_count": 9,
   "metadata": {},
   "outputs": [],
   "source": [
    "import numpy as np"
   ]
  },
  {
   "cell_type": "markdown",
   "metadata": {},
   "source": [
    "### 3.3.1 [1, 2, 3]の値を含むnumpy変数nを作成して下さい．"
   ]
  },
  {
   "cell_type": "code",
   "execution_count": 10,
   "metadata": {
    "scrolled": true
   },
   "outputs": [],
   "source": [
    "# ここに回答を書いて下さい．\n",
    "n = np.array([1,2,3])"
   ]
  },
  {
   "cell_type": "markdown",
   "metadata": {},
   "source": [
    "### 3.3.2 変数listからnumpy変数n_listを作成し，for文で全ての値を表示して下さい．"
   ]
  },
  {
   "cell_type": "code",
   "execution_count": 11,
   "metadata": {},
   "outputs": [
    {
     "name": "stdout",
     "output_type": "stream",
     "text": [
      "1\n",
      "2\n",
      "3\n",
      "4\n",
      "5\n",
      "6\n",
      "7\n",
      "8\n",
      "9\n",
      "----------\n",
      "その他の回答\n",
      "1\n",
      "2\n",
      "3\n",
      "4\n",
      "5\n",
      "6\n",
      "7\n",
      "8\n",
      "9\n"
     ]
    }
   ],
   "source": [
    "# ここに回答を書いて下さい．\n",
    "n_list = np.array(list)\n",
    "for i in range(len(n_list)):\n",
    "    print(n_list[i])\n",
    "\n",
    "#### その他の回答 ###\n",
    "print('-' * 10)\n",
    "print('その他の回答')\n",
    "\n",
    "for v in n_list:\n",
    "    print(v)"
   ]
  },
  {
   "cell_type": "markdown",
   "metadata": {},
   "source": [
    "### 3.3.3 変数n_listの要素数を表示して下さい．"
   ]
  },
  {
   "cell_type": "code",
   "execution_count": 12,
   "metadata": {},
   "outputs": [
    {
     "name": "stdout",
     "output_type": "stream",
     "text": [
      "9\n"
     ]
    }
   ],
   "source": [
    "# ここに回答を書いて下さい．\n",
    "print(len(n_list))"
   ]
  },
  {
   "cell_type": "markdown",
   "metadata": {},
   "source": [
    "### 3.3.4 for文を使った方法とnumpy.sum()関数を使った方法の二通りの方法で，変数n_listの値を全て足して下さい．"
   ]
  },
  {
   "cell_type": "code",
   "execution_count": 13,
   "metadata": {
    "scrolled": true
   },
   "outputs": [
    {
     "name": "stdout",
     "output_type": "stream",
     "text": [
      "45\n",
      "45\n"
     ]
    }
   ],
   "source": [
    "# 回答１for文を使った方法\n",
    "p = 0\n",
    "for i in range(len(n_list)):\n",
    "    p = p + n_list[i]\n",
    "print(p)\n",
    "\n",
    "# 回答2 sum関数を使った方法\n",
    "print(np.sum(n_list))"
   ]
  },
  {
   "cell_type": "markdown",
   "metadata": {},
   "source": [
    "## 3.4 Pandas Series\n",
    "pandasとは・・・\n"
   ]
  },
  {
   "cell_type": "code",
   "execution_count": 14,
   "metadata": {},
   "outputs": [],
   "source": [
    "import pandas as pd"
   ]
  },
  {
   "cell_type": "markdown",
   "metadata": {},
   "source": [
    "### 3.4.1 [5, 10, 15]を含むPandas Series配列sを作成して下さい．\n",
    "列を作成して下さい．"
   ]
  },
  {
   "cell_type": "code",
   "execution_count": 15,
   "metadata": {},
   "outputs": [
    {
     "name": "stdout",
     "output_type": "stream",
     "text": [
      "0     5\n",
      "1    10\n",
      "2     5\n",
      "dtype: int64\n"
     ]
    }
   ],
   "source": [
    "# ここに回答を書いて下さい．\n",
    "s = pd.Series([5,10,5])\n",
    "print(s)"
   ]
  },
  {
   "cell_type": "markdown",
   "metadata": {},
   "source": [
    "### 3.4.2 リストの変数listを使ってPandas Seriesの変数s_listを作成して下さい．"
   ]
  },
  {
   "cell_type": "code",
   "execution_count": 16,
   "metadata": {},
   "outputs": [
    {
     "name": "stdout",
     "output_type": "stream",
     "text": [
      "0    1\n",
      "1    2\n",
      "2    3\n",
      "3    4\n",
      "4    5\n",
      "5    6\n",
      "6    7\n",
      "7    8\n",
      "8    9\n",
      "dtype: int64\n"
     ]
    }
   ],
   "source": [
    "# ここに回答を書いて下さい．\n",
    "import pandas as pd\n",
    "s_list = pd.Series(list)\n",
    "print(s_list)"
   ]
  },
  {
   "cell_type": "markdown",
   "metadata": {},
   "source": [
    "### 3.4.3 numpyの変数nを使って，Pandas Seriesの変数sを作成して下さい．"
   ]
  },
  {
   "cell_type": "code",
   "execution_count": 17,
   "metadata": {},
   "outputs": [
    {
     "name": "stdout",
     "output_type": "stream",
     "text": [
      "0    1\n",
      "1    2\n",
      "2    3\n",
      "dtype: int32\n"
     ]
    }
   ],
   "source": [
    "# ここに回答を書いて下さい．\n",
    "s = pd.Series(n)\n",
    "print(s)"
   ]
  },
  {
   "cell_type": "markdown",
   "metadata": {},
   "source": [
    "### 3.4.4 国語50点，数学80点，英語70点のデータを，Pandas Seriesで表して変数testを作成して下さい．科目をインデックスで表現して下さい．"
   ]
  },
  {
   "cell_type": "code",
   "execution_count": 18,
   "metadata": {},
   "outputs": [
    {
     "name": "stdout",
     "output_type": "stream",
     "text": [
      "math        50\n",
      "japanese    80\n",
      "english     70\n",
      "dtype: int64\n",
      "math        10\n",
      "japanese    50\n",
      "english     35\n",
      "dtype: int64\n"
     ]
    }
   ],
   "source": [
    "# ここに回答を書いて下さい．\n",
    "test_1 = [50,80,70]\n",
    "test_s = pd.Series(test_1, index = [\"math\",\"japanese\",\"english\"])\n",
    "print(test_s)\n",
    "\n",
    "test = pd.Series({\"math\":10,\"japanese\":50,\"english\":35})\n",
    "print(test)"
   ]
  },
  {
   "cell_type": "markdown",
   "metadata": {},
   "source": [
    "### 3.4.5 変数testの値（得点の方）を全て表示して下さい．"
   ]
  },
  {
   "cell_type": "code",
   "execution_count": 19,
   "metadata": {},
   "outputs": [
    {
     "name": "stdout",
     "output_type": "stream",
     "text": [
      "10\n",
      "50\n",
      "35\n"
     ]
    }
   ],
   "source": [
    "# ここに回答を書いて下さい．\n",
    "for i in range(len(test)):\n",
    "    print(test.values[i])"
   ]
  },
  {
   "cell_type": "markdown",
   "metadata": {},
   "source": [
    "### 3.4.6 変数testのインデックス（科目の方）を全て表示して下さい．\n",
    "ヒント：indexを使う"
   ]
  },
  {
   "cell_type": "code",
   "execution_count": 20,
   "metadata": {},
   "outputs": [
    {
     "name": "stdout",
     "output_type": "stream",
     "text": [
      "math\n",
      "japanese\n",
      "english\n"
     ]
    }
   ],
   "source": [
    "# ここに回答を書いて下さい．\n",
    "for i in range(len(test)):\n",
    "    print(test.index[i])"
   ]
  },
  {
   "cell_type": "markdown",
   "metadata": {},
   "source": [
    "### 3.4.7 変数testのインデックスと値を全て表示して下さい．\n",
    "ヒント：iteritems()関数を使う"
   ]
  },
  {
   "cell_type": "code",
   "execution_count": 21,
   "metadata": {},
   "outputs": [
    {
     "name": "stdout",
     "output_type": "stream",
     "text": [
      "('math', 10)\n",
      "('japanese', 50)\n",
      "('english', 35)\n"
     ]
    }
   ],
   "source": [
    "# ここに回答を書いて下さい．\n",
    "\n",
    "for i in test.iteritems():\n",
    "    print(i)"
   ]
  },
  {
   "cell_type": "markdown",
   "metadata": {},
   "source": [
    "### 3.4.8 変数testの要素数を表示して下さい．"
   ]
  },
  {
   "cell_type": "code",
   "execution_count": 22,
   "metadata": {},
   "outputs": [
    {
     "name": "stdout",
     "output_type": "stream",
     "text": [
      "3\n"
     ]
    }
   ],
   "source": [
    "# ここに回答を書いて下さい．\n",
    "print(len(test))"
   ]
  }
 ],
 "metadata": {
  "kernelspec": {
   "display_name": "Python 3",
   "language": "python",
   "name": "python3"
  },
  "language_info": {
   "codemirror_mode": {
    "name": "ipython",
    "version": 3
   },
   "file_extension": ".py",
   "mimetype": "text/x-python",
   "name": "python",
   "nbconvert_exporter": "python",
   "pygments_lexer": "ipython3",
   "version": "3.6.10"
  }
 },
 "nbformat": 4,
 "nbformat_minor": 2
}
