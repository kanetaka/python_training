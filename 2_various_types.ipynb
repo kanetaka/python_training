{
 "cells": [
  {
   "cell_type": "markdown",
   "metadata": {},
   "source": [
    "# 第2章　よく使う型と計算！\n",
    "\n",
    "この章の目的\n",
    "* よく使う型に慣れる\n",
    "* 型の計算に慣れる"
   ]
  },
  {
   "cell_type": "markdown",
   "metadata": {},
   "source": [
    "### 【課題】変数a（整数）と変数b（整数）を足して変数cに代入して下さい．"
   ]
  },
  {
   "cell_type": "code",
   "execution_count": 3,
   "metadata": {},
   "outputs": [
    {
     "name": "stdout",
     "output_type": "stream",
     "text": [
      "7\n"
     ]
    }
   ],
   "source": [
    "a = 2\n",
    "b = 5\n",
    "\n",
    "# ここに回答を書いて下さい\n",
    "c = a + b"
   ]
  },
  {
   "cell_type": "markdown",
   "metadata": {},
   "source": [
    "### 【課題】変数d（浮動小数点数）と変数e（浮動小数点数）を足して変数fに代入して下さい．"
   ]
  },
  {
   "cell_type": "code",
   "execution_count": 6,
   "metadata": {},
   "outputs": [
    {
     "name": "stdout",
     "output_type": "stream",
     "text": [
      "5.8598744820499995\n"
     ]
    }
   ],
   "source": [
    "d = 3.14159265359\n",
    "e = 2.71828182846\n",
    "\n",
    "# ここに回答を書いて下さい\n",
    "f = d + e\n",
    "print(f)"
   ]
  },
  {
   "cell_type": "markdown",
   "metadata": {},
   "source": [
    "### 【課題】変数a（整数）と変数d（浮動小数点数）を足して変数gに代入して下さい．ただし，変数gは浮動小数点数にすること．"
   ]
  },
  {
   "cell_type": "code",
   "execution_count": 11,
   "metadata": {},
   "outputs": [
    {
     "name": "stdout",
     "output_type": "stream",
     "text": [
      "5.14159265359\n"
     ]
    }
   ],
   "source": [
    "# ここに回答と書いて下さい\n",
    "g = a + d\n",
    "print(float(g))"
   ]
  },
  {
   "cell_type": "markdown",
   "metadata": {},
   "source": [
    "### 【課題】文字列str1とstr2を連結してstr3に代入して下さい．"
   ]
  },
  {
   "cell_type": "code",
   "execution_count": 12,
   "metadata": {},
   "outputs": [
    {
     "name": "stdout",
     "output_type": "stream",
     "text": [
      "こんにちはPython\n"
     ]
    }
   ],
   "source": [
    "str1 = 'こんにちは'\n",
    "str2 = 'Python'\n",
    "\n",
    "# ここに回答を書いて下さい\n",
    "str3 = str1 + str2\n",
    "print(str3)"
   ]
  },
  {
   "cell_type": "markdown",
   "metadata": {},
   "source": [
    "### 【課題】文字列str1と変数aを連結して，\"こんにちは2\"にして変数str4に代入して下さい．"
   ]
  },
  {
   "cell_type": "code",
   "execution_count": 13,
   "metadata": {},
   "outputs": [
    {
     "name": "stdout",
     "output_type": "stream",
     "text": [
      "こんにちは2\n"
     ]
    }
   ],
   "source": [
    "# ここに回答を書いて下さい\n",
    "str4 = str1 + str(a)\n",
    "print(str4)"
   ]
  },
  {
   "cell_type": "markdown",
   "metadata": {},
   "source": [
    "### 【課題】datetime型を使って現在時刻を，文字列\"年/月/日\"に変換して変数nowに代入して下さい．\n",
    "ヒント：strftime()関数を利用します．"
   ]
  },
  {
   "cell_type": "code",
   "execution_count": 18,
   "metadata": {},
   "outputs": [
    {
     "name": "stdout",
     "output_type": "stream",
     "text": [
      "2020/08/11\n"
     ]
    }
   ],
   "source": [
    "# ここに回答を書いて下さい\n",
    "import datetime\n",
    "d = datetime.datetime.now()\n",
    "now = d.strftime('%Y/%m/%d')\n",
    "print(now)"
   ]
  },
  {
   "cell_type": "markdown",
   "metadata": {},
   "source": [
    "### 【課題】文字列\"2019/08/26 13:30:40\"をdatetime型に変換して変数dateに代入して下さい\n",
    "ヒント：strptime()関数を利用します．"
   ]
  },
  {
   "cell_type": "code",
   "execution_count": 23,
   "metadata": {},
   "outputs": [
    {
     "name": "stdout",
     "output_type": "stream",
     "text": [
      "2019-08-26 13:30:40\n"
     ]
    }
   ],
   "source": [
    "date_str = '2019/08/26 13:30:40'\n",
    "# ここに回答を書いて下さい\n",
    "date = datetime.datetime.strptime(date_str, '%Y/%m/%d %H:%M:%S')\n",
    "print(date)"
   ]
  },
  {
   "cell_type": "markdown",
   "metadata": {},
   "source": [
    "### 【課題】上記で作成した変数nowに200日足して変数futureに代入して下さい．\n",
    "ヒント：timedelta()関数を使う"
   ]
  },
  {
   "cell_type": "code",
   "execution_count": 26,
   "metadata": {},
   "outputs": [
    {
     "name": "stdout",
     "output_type": "stream",
     "text": [
      "2021-02-27 00:00:00\n"
     ]
    }
   ],
   "source": [
    "# ここに回答を書いて下さい\n",
    "now2 = datetime.datetime.strptime(now, '%Y/%m/%d')\n",
    "future = now2 + datetime.timedelta(days=200)\n",
    "print(future)"
   ]
  },
  {
   "cell_type": "markdown",
   "metadata": {},
   "source": [
    "### 【課題】上記で作成した変数nowに6ヶ月足してfuture2に代入して下さい．\n",
    "※意外と割と面倒です．色々方法があります．どんな方法を使ってもいいです．"
   ]
  },
  {
   "cell_type": "code",
   "execution_count": 28,
   "metadata": {},
   "outputs": [
    {
     "name": "stdout",
     "output_type": "stream",
     "text": [
      "2021-02-11 00:00:00\n"
     ]
    }
   ],
   "source": [
    "# ここに回答を書いて下さい\n",
    "import datetime\n",
    "from dateutil.relativedelta import relativedelta\n",
    "future2 = now2 + relativedelta(months=6)\n",
    "print(future2)"
   ]
  }
 ],
 "metadata": {
  "kernelspec": {
   "display_name": "Python 3",
   "language": "python",
   "name": "python3"
  },
  "language_info": {
   "codemirror_mode": {
    "name": "ipython",
    "version": 3
   },
   "file_extension": ".py",
   "mimetype": "text/x-python",
   "name": "python",
   "nbconvert_exporter": "python",
   "pygments_lexer": "ipython3",
   "version": "3.7.6"
  }
 },
 "nbformat": 4,
 "nbformat_minor": 2
}
