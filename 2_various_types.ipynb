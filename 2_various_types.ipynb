{
 "cells": [
  {
   "cell_type": "markdown",
   "metadata": {},
   "source": [
    "# 第2章　よく使う型と計算！\n",
    "\n",
    "この章の目的\n",
    "* よく使う型に慣れる\n",
    "* 型の計算に慣れる"
   ]
  },
  {
   "cell_type": "markdown",
   "metadata": {},
   "source": [
    "### 変数a（整数）と変数b（整数）を足して変数cに代入して下さい．"
   ]
  },
  {
   "cell_type": "code",
   "execution_count": 1,
   "metadata": {},
   "outputs": [],
   "source": [
    "a = 2\n",
    "b = 5\n",
    "\n",
    "# ここに回答を書いて下さい\n"
   ]
  },
  {
   "cell_type": "markdown",
   "metadata": {},
   "source": [
    "### 変数d（浮動小数点数）と変数e（浮動小数点数）を足して変数fに代入して下さい．"
   ]
  },
  {
   "cell_type": "code",
   "execution_count": 2,
   "metadata": {},
   "outputs": [],
   "source": [
    "d = 3.14159265359\n",
    "e = 2.71828182846\n",
    "\n",
    "# ここに回答を書いて下さい\n"
   ]
  },
  {
   "cell_type": "markdown",
   "metadata": {},
   "source": [
    "### 変数a（整数）と変数d（浮動小数点数）を足して変数gに代入して下さい．ただし，変数gは浮動小数点数にすること．"
   ]
  },
  {
   "cell_type": "code",
   "execution_count": 3,
   "metadata": {},
   "outputs": [],
   "source": [
    "# ここに回答と書いて下さい\n"
   ]
  },
  {
   "cell_type": "markdown",
   "metadata": {},
   "source": [
    "### 文字列str1とstr2を連結してstr3に代入して下さい．"
   ]
  },
  {
   "cell_type": "code",
   "execution_count": 4,
   "metadata": {},
   "outputs": [],
   "source": [
    "str1 = 'こんにちは'\n",
    "str2 = 'Python'\n",
    "\n",
    "# ここに回答を書いて下さい\n"
   ]
  },
  {
   "cell_type": "markdown",
   "metadata": {},
   "source": [
    "### 文字列str1と変数aを連結して，\"こんにちは2\"にして変数str4に代入して下さい．"
   ]
  },
  {
   "cell_type": "code",
   "execution_count": 5,
   "metadata": {},
   "outputs": [],
   "source": [
    "# ここに回答を書いて下さい\n"
   ]
  },
  {
   "cell_type": "markdown",
   "metadata": {},
   "source": [
    "### datetime型を使って現在時刻を，文字列\"年/月/日\"に変換して変数nowに代入して下さい．\n",
    "ヒント：strftime()関数を利用します．"
   ]
  },
  {
   "cell_type": "code",
   "execution_count": 6,
   "metadata": {},
   "outputs": [],
   "source": [
    "# ここに回答を書いて下さい\n"
   ]
  },
  {
   "cell_type": "markdown",
   "metadata": {},
   "source": [
    "### 文字列\"2019/08/26 13:30:40\"をdatetime型に変換して変数dateに代入して下さい\n",
    "ヒント：strptime()関数を利用します．"
   ]
  },
  {
   "cell_type": "code",
   "execution_count": 7,
   "metadata": {},
   "outputs": [],
   "source": [
    "date_str = '2019/08/26 13:30:40'\n",
    "# ここに回答を書いて下さい\n"
   ]
  },
  {
   "cell_type": "markdown",
   "metadata": {},
   "source": [
    "### 上記で作成した変数nowに200日足して変数futureに代入して下さい．\n",
    "ヒント：timedelta()関数を使う"
   ]
  },
  {
   "cell_type": "code",
   "execution_count": 8,
   "metadata": {},
   "outputs": [],
   "source": [
    "# ここに回答を書いて下さい\n"
   ]
  },
  {
   "cell_type": "markdown",
   "metadata": {},
   "source": [
    "### 上記で作成した変数nowに6ヶ月足してfuture2に代入して下さい．\n",
    "※意外と割と面倒です．色々方法があります．どんな方法を使ってもいいです．"
   ]
  },
  {
   "cell_type": "code",
   "execution_count": 9,
   "metadata": {},
   "outputs": [],
   "source": [
    "# ここに回答を書いて下さい\n"
   ]
  }
 ],
 "metadata": {
  "kernelspec": {
   "display_name": "Python 3",
   "language": "python",
   "name": "python3"
  },
  "language_info": {
   "codemirror_mode": {
    "name": "ipython",
    "version": 3
   },
   "file_extension": ".py",
   "mimetype": "text/x-python",
   "name": "python",
   "nbconvert_exporter": "python",
   "pygments_lexer": "ipython3",
   "version": "3.6.10"
  }
 },
 "nbformat": 4,
 "nbformat_minor": 2
}
